{
 "cells": [
  {
   "cell_type": "markdown",
   "metadata": {
    "id": "-8Z3m04Zum2r"
   },
   "source": [
    "# PyTorch Computer Vision"
   ]
  },
  {
   "cell_type": "markdown",
   "metadata": {
    "id": "PthFRSTiY_vW"
   },
   "source": [
    "## 0. Computer vision libraries in PyTorch\n",
    "* torchvision - base library for computer vision\n",
    "* torchvision.da - get datasets and data loading functions\n",
    "* torchvision.models - pretrained computer vision models that can be leveraged for your models\n",
    "* torchvision.transform - functions for manupulating your vision data to make it suitable to use\n",
    "* torch.utils.data.Dataset - Base dataset class for pytorch\n",
    "* torch.utils.DataLoader - Creates a Python iterable over a dataset"
   ]
  },
  {
   "cell_type": "code",
   "execution_count": null,
   "metadata": {
    "id": "8hcg8ItxbA21"
   },
   "outputs": [
    {
     "ename": "",
     "evalue": "",
     "output_type": "error",
     "traceback": [
      "\u001b[1;31mRunning cells with 'Python 3.12.4' requires the ipykernel package.\n",
      "\u001b[1;31m<a href='command:jupyter.createPythonEnvAndSelectController'>Create a Python Environment</a> with the required packages.\n",
      "\u001b[1;31mOr install 'ipykernel' using the command: 'c:/Users/aryan/AppData/Local/Programs/Python/Python312/python.exe -m pip install ipykernel -U --user --force-reinstall'"
     ]
    }
   ],
   "source": [
    "import torch\n",
    "from torch import nn\n",
    "\n",
    "# import torchvision\n",
    "import torchvision\n",
    "from torchvision import datasets\n",
    "from torchvision import transforms\n",
    "from torchvision.transforms import ToTensor\n",
    "\n",
    "import matplotlib.pyplot as plt"
   ]
  },
  {
   "cell_type": "markdown",
   "metadata": {
    "id": "80IUtE8fc1BS"
   },
   "source": [
    "## Getting a dataset\n",
    "\n",
    "The dataset we are going to use Fashion-MNIST from torchviosion.datasets"
   ]
  },
  {
   "cell_type": "code",
   "execution_count": null,
   "metadata": {
    "colab": {
     "base_uri": "https://localhost:8080/"
    },
    "id": "c9AIoGiNfySx",
    "outputId": "d5e4bbfc-5cc8-48ca-89b5-91a21a14a441"
   },
   "outputs": [],
   "source": [
    "# Setup Training data\n",
    "train_data = datasets.FashionMNIST(\n",
    "    root = \"data\",\n",
    "    train=True,\n",
    "    download = True,\n",
    "    transform = ToTensor(),        # Transforms image data into tensors\n",
    "    target_transform=None,\n",
    ")\n",
    "\n",
    "test_data = datasets.FashionMNIST(\n",
    "    root = \"data\",\n",
    "    train=False,\n",
    "    download = True,\n",
    "    transform = ToTensor(),        # Transforms image data into tensors\n",
    "    target_transform=None,\n",
    ")"
   ]
  },
  {
   "cell_type": "code",
   "execution_count": null,
   "metadata": {
    "colab": {
     "base_uri": "https://localhost:8080/"
    },
    "id": "afnYM5YYg3iZ",
    "outputId": "b5a13ffd-6f65-4d2c-9f33-57846bcd4245"
   },
   "outputs": [],
   "source": [
    "len(train_data), len(test_data)"
   ]
  },
  {
   "cell_type": "code",
   "execution_count": null,
   "metadata": {
    "colab": {
     "base_uri": "https://localhost:8080/"
    },
    "id": "DLd3YTjyhJTB",
    "outputId": "748b83ef-46df-4734-e562-4fb3c602553d"
   },
   "outputs": [],
   "source": [
    "# See the first training example\n",
    "image_info = train_data\n",
    "image_info"
   ]
  },
  {
   "cell_type": "code",
   "execution_count": null,
   "metadata": {
    "colab": {
     "base_uri": "https://localhost:8080/"
    },
    "id": "zHXsPzq-uYfW",
    "outputId": "52d9373b-ed93-48e1-ad5f-36fd28621743"
   },
   "outputs": [],
   "source": [
    "image,label = train_data[0]\n",
    "print(image,\"\\n\")\n",
    "print(label)"
   ]
  },
  {
   "cell_type": "code",
   "execution_count": null,
   "metadata": {
    "colab": {
     "base_uri": "https://localhost:8080/"
    },
    "id": "HZHUa4a1hp9e",
    "outputId": "070b3d12-2207-4135-892f-72db188dd0ac"
   },
   "outputs": [],
   "source": [
    "class_names=train_data.classes    # So we have 9 classes in our data sets\n",
    "class_names"
   ]
  },
  {
   "cell_type": "code",
   "execution_count": null,
   "metadata": {
    "colab": {
     "base_uri": "https://localhost:8080/"
    },
    "id": "IHMuYVqJhwub",
    "outputId": "49eb6b54-6a29-4a95-96bb-9519591266f4"
   },
   "outputs": [],
   "source": [
    "class_to_idx = train_data.class_to_idx      # index of all the classes\n",
    "class_to_idx"
   ]
  },
  {
   "cell_type": "code",
   "execution_count": null,
   "metadata": {
    "colab": {
     "base_uri": "https://localhost:8080/"
    },
    "id": "vlXomH3qh4b4",
    "outputId": "9126bdd1-2c79-4a28-e5b0-bb63475821d8"
   },
   "outputs": [],
   "source": [
    "# Accessing the image data (tensor) within the tuple using indexing.\n",
    "image_data = image[0]  # Accessing the first item which is actual image data\n",
    "image_data.shape       # Access the shape of the image data stored as a Tensor.\n",
    "# shape is in oreder C,H,W there is only one colour channel as the data is in grey scale"
   ]
  },
  {
   "cell_type": "code",
   "execution_count": null,
   "metadata": {
    "colab": {
     "base_uri": "https://localhost:8080/"
    },
    "id": "loUxGWuAx1n9",
    "outputId": "967b1264-74dc-4bcf-9744-abfe8b98754a"
   },
   "outputs": [],
   "source": [
    "# The labels/outputs should be an integer from 0-9\n",
    "train_data.targets"
   ]
  },
  {
   "cell_type": "code",
   "execution_count": null,
   "metadata": {
    "colab": {
     "base_uri": "https://localhost:8080/",
     "height": 445
    },
    "id": "EKK1W4sIvI36",
    "outputId": "5f9b540f-8132-44cf-9af1-1a919d745583"
   },
   "outputs": [],
   "source": [
    "image, label = train_data[0]\n",
    "plt.imshow(image.squeeze())\n",
    "plt.title(label)\n",
    "plt.axis('off')  # this hides the axis"
   ]
  },
  {
   "cell_type": "code",
   "execution_count": null,
   "metadata": {
    "colab": {
     "base_uri": "https://localhost:8080/",
     "height": 469
    },
    "id": "NMz1k3HKwQro",
    "outputId": "3b700688-df13-4666-b43c-ecc32a8e6b82"
   },
   "outputs": [],
   "source": [
    "plt.imshow(image.squeeze(), cmap=\"gray\")    # Grey scale image of the data\n",
    "plt.title(class_names[label])\n"
   ]
  },
  {
   "cell_type": "code",
   "execution_count": null,
   "metadata": {
    "colab": {
     "base_uri": "https://localhost:8080/",
     "height": 1000
    },
    "id": "l0YjELUpwk3K",
    "outputId": "10b04e82-3d85-4a73-c80e-87c8e4d0113f"
   },
   "outputs": [],
   "source": [
    "# Plot random images\n",
    "torch.manual_seed(42)\n",
    "fig = plt.figure(figsize=(9,9))\n",
    "rows, cols = 4, 4\n",
    "for i in range (1, rows*cols+1, 1):\n",
    "  random_idx = torch.randint(0, len(train_data), (1,)).item()\n",
    "  print (random_idx)\n",
    "  img, label = train_data[random_idx]\n",
    "  fig.add_subplot(rows, cols, i)\n",
    "  plt.imshow(img.squeeze(), cmap=\"gray\")\n",
    "  plt.title(class_names[label])\n",
    "  plt.axis('off')  # this hides the axis"
   ]
  },
  {
   "cell_type": "markdown",
   "metadata": {
    "id": "KMCd2IUSJN-1"
   },
   "source": [
    "These items of clothing connot be distinguished using pure linear model so we will need non linearities"
   ]
  },
  {
   "cell_type": "markdown",
   "metadata": {
    "id": "_l8H5v9vL0r9"
   },
   "source": [
    "## 2 Prepare DataLoader\n",
    "Right now, our data is in the form of PyTorch Datasets.\n",
    "\n",
    "DataLoader turn our dataset into a python iterable"
   ]
  },
  {
   "cell_type": "markdown",
   "metadata": {
    "id": "9IomvVMHMNTL"
   },
   "source": [
    "More specifically we convert our data into small batches\n",
    "why we do this?\n",
    "* it is more efficient to look at a small batach at one time for the computer\n",
    "* It gives our nn more chances to update its gradients per epoch"
   ]
  },
  {
   "cell_type": "code",
   "execution_count": null,
   "metadata": {
    "colab": {
     "base_uri": "https://localhost:8080/"
    },
    "id": "M_BbWNnVZ3P1",
    "outputId": "a17cc3ab-157a-4c66-8990-7c1dcf1ccda5"
   },
   "outputs": [],
   "source": [
    "from torch.utils.data import DataLoader\n",
    "\n",
    "#setup the batch size hyperparameter\n",
    "BATCH_SIZE = 32\n",
    "\n",
    "# Turn datasets into batches\n",
    "train_dataloader = DataLoader(dataset=train_data,\n",
    "                              batch_size=BATCH_SIZE,\n",
    "                              shuffle=True)             # To give diversity in each batch\n",
    "test_dataloader = DataLoader(dataset=test_data,\n",
    "                             batch_size=BATCH_SIZE,\n",
    "                             shuffle=False)\n",
    "train_dataloader,test_dataloader"
   ]
  },
  {
   "cell_type": "code",
   "execution_count": null,
   "metadata": {
    "colab": {
     "base_uri": "https://localhost:8080/"
    },
    "id": "gsLLZ-JCKf4V",
    "outputId": "6853b3f4-cf39-4f77-dd37-d47f34d2e71a"
   },
   "outputs": [],
   "source": [
    "print(f\"length of data/no batch size : {len(train_dataloader)}\")         # there are 1875 batches of 32 images"
   ]
  },
  {
   "cell_type": "code",
   "execution_count": null,
   "metadata": {
    "colab": {
     "base_uri": "https://localhost:8080/"
    },
    "id": "6BhtCFepLI_I",
    "outputId": "3c8ade6a-1883-4c04-d3bb-7d390cc68123"
   },
   "outputs": [],
   "source": [
    "# Check out whats inside the training dataloader\n",
    "train_features_batch, train_labels_batch = next(iter(train_dataloader))\n",
    "train_features_batch.shape, train_labels_batch.shape"
   ]
  },
  {
   "cell_type": "code",
   "execution_count": null,
   "metadata": {
    "colab": {
     "base_uri": "https://localhost:8080/",
     "height": 384
    },
    "id": "XiCdYYpXK4WK",
    "outputId": "cb209657-6012-499b-e999-febca93a0aa9"
   },
   "outputs": [],
   "source": [
    "# Visualizing a batch\n",
    "import torch\n",
    "import matplotlib.pyplot as plt\n",
    "\n",
    "torch.manual_seed(42)\n",
    "random_idx = torch.randint(0, len(train_features_batch), (1,)).item()\n",
    "img, label = train_features_batch[random_idx], train_labels_batch[random_idx]\n",
    "\n",
    "# Plotting\n",
    "plt.figure(figsize=(4, 4))\n",
    "plt.imshow(img.squeeze(), cmap=\"gray\")\n",
    "plt.title(class_names[label])\n",
    "plt.axis('off')  # this hides the axis"
   ]
  },
  {
   "cell_type": "markdown",
   "metadata": {
    "id": "99_u5oMndDLc"
   },
   "source": [
    "we have now successfully got our data ready"
   ]
  },
  {
   "cell_type": "markdown",
   "metadata": {
    "id": "i5zfWWyvdyxo"
   },
   "source": [
    "## 3 Model 0 (Baseline model)\n",
    "\n",
    "When building and experimenting on ML models , start with a baseline model\n",
    "\n",
    "baseline model: simple model and add complexity as we go so like iterative enhancement model"
   ]
  },
  {
   "cell_type": "code",
   "execution_count": null,
   "metadata": {
    "colab": {
     "base_uri": "https://localhost:8080/"
    },
    "id": "r98H1EuveOLe",
    "outputId": "954230d8-6600-4610-c3c2-ee63a36de1b4"
   },
   "outputs": [],
   "source": [
    "# Creating a flatten layer\n",
    "flatten_model = nn.Flatten()\n",
    "\n",
    "x = train_features_batch[0]\n",
    "\n",
    "output = flatten_model(x)         # Perform forward pass\n",
    "\n",
    "print(x.shape, output.shape)    # converts multi-dimensional tensor into a stright line or flattens it\n",
    "\n",
    "# we need to flatten our data to create a layer"
   ]
  },
  {
   "cell_type": "code",
   "execution_count": null,
   "metadata": {
    "id": "rmEgNdDtgfSg"
   },
   "outputs": [],
   "source": [
    "from torch import nn\n",
    "class fashionMNISTModelV0(nn.Module):\n",
    "  def __init__(self,\n",
    "               input_shapes:int,\n",
    "               hidden_units:int,\n",
    "               output_shapes:int):\n",
    "    super().__init__()\n",
    "    self.layer_stack = nn.Sequential(\n",
    "        nn.Flatten(),\n",
    "        nn.Linear(in_features=input_shapes,\n",
    "                  out_features=hidden_units),\n",
    "        nn.Linear(in_features=hidden_units,\n",
    "                  out_features=output_shapes)\n",
    "\n",
    "    )\n",
    "\n",
    "  def forward(self, x):\n",
    "    return self.layer_stack(x)"
   ]
  },
  {
   "cell_type": "code",
   "execution_count": null,
   "metadata": {
    "colab": {
     "base_uri": "https://localhost:8080/"
    },
    "id": "zLRIOd78l9EX",
    "outputId": "46d2eff7-aa83-45f4-c0f6-789f891df680"
   },
   "outputs": [],
   "source": [
    "torch.manual_seed(42)\n",
    "\n",
    "model_0 = fashionMNISTModelV0(\n",
    "    input_shapes = 784,\n",
    "    hidden_units = 10,\n",
    "    output_shapes=len(class_names)\n",
    ").to(\"cpu\")\n",
    "\n",
    "model_0"
   ]
  },
  {
   "cell_type": "code",
   "execution_count": null,
   "metadata": {
    "colab": {
     "base_uri": "https://localhost:8080/"
    },
    "id": "hAKRZvjlmiOu",
    "outputId": "92e227d7-2b23-4be7-c2bb-964355dfe57e"
   },
   "outputs": [],
   "source": [
    "model_0.state_dict()"
   ]
  },
  {
   "cell_type": "markdown",
   "metadata": {
    "id": "p6ZleWpcxGlg"
   },
   "source": [
    "### 3.1 Loss function and optimizer and evaluation metrics\n",
    "* Loss function - since we are working with MCC data , we use cross entropy\n",
    "* optimizer - SGD\n",
    "* evaluation metric - accuracy"
   ]
  },
  {
   "cell_type": "code",
   "execution_count": null,
   "metadata": {
    "colab": {
     "base_uri": "https://localhost:8080/"
    },
    "id": "X34PswpZyvCh",
    "outputId": "1f33e8a1-acbc-4d5b-bde8-b6cd3dde638a"
   },
   "outputs": [],
   "source": [
    "# importing helper functions\n",
    "import requests\n",
    "from pathlib import Path\n",
    "if Path(\"helper_function.py\").is_file():\n",
    "  print(\"already downloaded\")\n",
    "else:\n",
    "  print(\"downloading \")\n",
    "  request = requests.get(\"https://raw.githubusercontent.com/mrdbourke/pytorch-deep-learning/refs/heads/main/helper_functions.py\")\n",
    "  with open(\"helper_functions.py\", \"wb\") as f:\n",
    "    f.write(request.content)"
   ]
  },
  {
   "cell_type": "code",
   "execution_count": null,
   "metadata": {
    "id": "eJQlPvn8z2Kl"
   },
   "outputs": [],
   "source": [
    "# we have accuracy function in the helper function file\n",
    "from helper_functions import accuracy_fn"
   ]
  },
  {
   "cell_type": "code",
   "execution_count": null,
   "metadata": {
    "colab": {
     "base_uri": "https://localhost:8080/",
     "height": 186
    },
    "id": "gUfnW2zE0DKb",
    "outputId": "378d38c4-97f3-47b1-8ec3-90f3e0cac011"
   },
   "outputs": [],
   "source": [
    "accuracy_fn"
   ]
  },
  {
   "cell_type": "code",
   "execution_count": null,
   "metadata": {
    "id": "ca1T-Gtf0GEQ"
   },
   "outputs": [],
   "source": [
    "# Loss function and optimizeer\n",
    "loss_fn = nn.CrossEntropyLoss()\n",
    "optimizer = torch.optim.SGD(params=model_0.parameters(),\n",
    "                            lr=0.001)\n"
   ]
  },
  {
   "cell_type": "markdown",
   "metadata": {
    "id": "tGEMnEcI0Zuy"
   },
   "source": [
    "### 3.3 Creating a function to time our experiment\n",
    "to check the models efficiency"
   ]
  },
  {
   "cell_type": "code",
   "execution_count": null,
   "metadata": {
    "id": "XcIEWbQH00_N"
   },
   "outputs": [],
   "source": [
    "from timeit import default_timer as timer\n",
    "def print_train_time(start: float,\n",
    "                     end:float,\n",
    "                     device: torch.device =None):\n",
    "  \"\"\" Prints differnce between between start and end time\"\"\"\n",
    "  total_time = end - start\n",
    "  print(f\"Train time on {device} : {total_time:.3f} seconds\")\n",
    "  return total_time\n"
   ]
  },
  {
   "cell_type": "code",
   "execution_count": null,
   "metadata": {
    "colab": {
     "base_uri": "https://localhost:8080/"
    },
    "id": "5khTjBHOQbGs",
    "outputId": "9af0b00f-e24d-4278-ba4c-4484464beadf"
   },
   "outputs": [],
   "source": [
    "start_time = timer()\n",
    "# some code...\n",
    "end_time = timer()\n",
    "print_train_time(start=start_time, end=end_time, device=\"cpu\")\n"
   ]
  },
  {
   "cell_type": "markdown",
   "metadata": {
    "id": "FaIvyGU0Q3rN"
   },
   "source": [
    "### 3.3 Creating a training loop and training a model on batches of data\n",
    "\n",
    "1. Loop through epochs\n",
    "2. Loop through batches , perform Training steps, calculate the train loss *per batch*\n",
    "3.Loop through testing batches, perform testing steps, calculate the test loss per batch\n",
    "4. print out whats happening\n"
   ]
  },
  {
   "cell_type": "code",
   "execution_count": null,
   "metadata": {
    "colab": {
     "base_uri": "https://localhost:8080/",
     "height": 587,
     "referenced_widgets": [
      "1987bb6767e1471ebd75f5db318d6374",
      "3c14a96ba5f243a3aafdf4ae59495daf",
      "0e91cea461b84245b8c8391f52926468",
      "474e9843421143de8413d4f4e629bb18",
      "868a87bf7f574b9a98a1eccb424d3152",
      "9b7a73505a934df7bbccd6f57082b5b0",
      "fba244b0bab74a6281f8c44f4ea17bad",
      "c02bf480c7e44789ae086266f09870b4",
      "3f0276991f4f4da1b05dcac41a263023",
      "ba54aed827cd44c3af19d7b56b6e4515",
      "eb40c91587e64dac8edf3d9652eb4735"
     ]
    },
    "id": "MnTqJz1nIQnd",
    "outputId": "7712321f-22cb-4a9b-c6c5-b10689e8a288"
   },
   "outputs": [],
   "source": [
    "# Import tqdm for progress bar\n",
    "from tqdm.auto import tqdm\n",
    "\n",
    "# Set the seed and start the timer\n",
    "torch.manual_seed(42)\n",
    "train_time_start_on_cpu = timer()\n",
    "\n",
    "# Set the number of epochs (we'll keep this small for faster training times)\n",
    "epochs = 3\n",
    "\n",
    "# Create training and testing loop\n",
    "for epoch in tqdm(range(epochs)):\n",
    "    print(f\"Epoch: {epoch}\\n-------\")\n",
    "    ### Training\n",
    "    train_loss = 0\n",
    "    # Add a loop to loop through training batches\n",
    "    for batch, (X, y) in enumerate(train_dataloader):\n",
    "        model_0.train()\n",
    "        # 1. Forward pass\n",
    "        y_pred = model_0(X)\n",
    "\n",
    "        # 2. Calculate loss (per batch)\n",
    "        loss = loss_fn(y_pred, y)\n",
    "        train_loss += loss # accumulatively add up the loss per epoch\n",
    "\n",
    "        # 3. Optimizer zero grad\n",
    "        optimizer.zero_grad()\n",
    "\n",
    "        # 4. Loss backward\n",
    "        loss.backward()\n",
    "\n",
    "        # 5. Optimizer step\n",
    "        optimizer.step()\n",
    "\n",
    "        # Print out how many samples have been seen\n",
    "        if batch % 400 == 0:\n",
    "            print(f\"Looked at {batch * len(X)}/{len(train_dataloader.dataset)} samples\")\n",
    "\n",
    "    # Divide total train loss by length of train dataloader (average loss per batch per epoch)\n",
    "    train_loss /= len(train_dataloader)\n",
    "\n",
    "    ### Testing\n",
    "    # Setup variables for accumulatively adding up loss and accuracy\n",
    "    test_loss, test_acc = 0, 0\n",
    "    model_0.eval()\n",
    "    with torch.inference_mode():\n",
    "        for X, y in test_dataloader:\n",
    "            # 1. Forward pass\n",
    "            test_pred = model_0(X)\n",
    "\n",
    "            # 2. Calculate loss (accumulatively)\n",
    "            test_loss += loss_fn(test_pred, y) # accumulatively add up the loss per epoch\n",
    "\n",
    "            # 3. Calculate accuracy (preds need to be same as y_true)\n",
    "            test_acc += accuracy_fn(y_true=y, y_pred=test_pred.argmax(dim=1))\n",
    "\n",
    "        # Calculations on test metrics need to happen inside torch.inference_mode()\n",
    "        # Divide total test loss by length of test dataloader (per batch)\n",
    "        test_loss /= len(test_dataloader)\n",
    "\n",
    "        # Divide total accuracy by length of test dataloader (per batch)\n",
    "        test_acc /= len(test_dataloader)\n",
    "\n",
    "    ## Print out what's happening\n",
    "    print(f\"\\nTrain loss: {train_loss:.5f} | Test loss: {test_loss:.5f}, Test acc: {test_acc:.2f}%\\n\")\n",
    "\n",
    "# Calculate training time\n",
    "train_time_end_on_cpu = timer()\n",
    "total_train_time_model_0 = print_train_time(start=train_time_start_on_cpu,\n",
    "                                           end=train_time_end_on_cpu,\n",
    "                                           device=str(next(model_0.parameters()).device))"
   ]
  }
 ],
 "metadata": {
  "colab": {
   "provenance": []
  },
  "kernelspec": {
   "display_name": "Python 3",
   "name": "python3"
  },
  "language_info": {
   "name": "python",
   "version": "3.12.4"
  },
  "widgets": {
   "application/vnd.jupyter.widget-state+json": {
    "0e91cea461b84245b8c8391f52926468": {
     "model_module": "@jupyter-widgets/controls",
     "model_module_version": "1.5.0",
     "model_name": "FloatProgressModel",
     "state": {
      "_dom_classes": [],
      "_model_module": "@jupyter-widgets/controls",
      "_model_module_version": "1.5.0",
      "_model_name": "FloatProgressModel",
      "_view_count": null,
      "_view_module": "@jupyter-widgets/controls",
      "_view_module_version": "1.5.0",
      "_view_name": "ProgressView",
      "bar_style": "success",
      "description": "",
      "description_tooltip": null,
      "layout": "IPY_MODEL_c02bf480c7e44789ae086266f09870b4",
      "max": 3,
      "min": 0,
      "orientation": "horizontal",
      "style": "IPY_MODEL_3f0276991f4f4da1b05dcac41a263023",
      "value": 3
     }
    },
    "1987bb6767e1471ebd75f5db318d6374": {
     "model_module": "@jupyter-widgets/controls",
     "model_module_version": "1.5.0",
     "model_name": "HBoxModel",
     "state": {
      "_dom_classes": [],
      "_model_module": "@jupyter-widgets/controls",
      "_model_module_version": "1.5.0",
      "_model_name": "HBoxModel",
      "_view_count": null,
      "_view_module": "@jupyter-widgets/controls",
      "_view_module_version": "1.5.0",
      "_view_name": "HBoxView",
      "box_style": "",
      "children": [
       "IPY_MODEL_3c14a96ba5f243a3aafdf4ae59495daf",
       "IPY_MODEL_0e91cea461b84245b8c8391f52926468",
       "IPY_MODEL_474e9843421143de8413d4f4e629bb18"
      ],
      "layout": "IPY_MODEL_868a87bf7f574b9a98a1eccb424d3152"
     }
    },
    "3c14a96ba5f243a3aafdf4ae59495daf": {
     "model_module": "@jupyter-widgets/controls",
     "model_module_version": "1.5.0",
     "model_name": "HTMLModel",
     "state": {
      "_dom_classes": [],
      "_model_module": "@jupyter-widgets/controls",
      "_model_module_version": "1.5.0",
      "_model_name": "HTMLModel",
      "_view_count": null,
      "_view_module": "@jupyter-widgets/controls",
      "_view_module_version": "1.5.0",
      "_view_name": "HTMLView",
      "description": "",
      "description_tooltip": null,
      "layout": "IPY_MODEL_9b7a73505a934df7bbccd6f57082b5b0",
      "placeholder": "​",
      "style": "IPY_MODEL_fba244b0bab74a6281f8c44f4ea17bad",
      "value": "100%"
     }
    },
    "3f0276991f4f4da1b05dcac41a263023": {
     "model_module": "@jupyter-widgets/controls",
     "model_module_version": "1.5.0",
     "model_name": "ProgressStyleModel",
     "state": {
      "_model_module": "@jupyter-widgets/controls",
      "_model_module_version": "1.5.0",
      "_model_name": "ProgressStyleModel",
      "_view_count": null,
      "_view_module": "@jupyter-widgets/base",
      "_view_module_version": "1.2.0",
      "_view_name": "StyleView",
      "bar_color": null,
      "description_width": ""
     }
    },
    "474e9843421143de8413d4f4e629bb18": {
     "model_module": "@jupyter-widgets/controls",
     "model_module_version": "1.5.0",
     "model_name": "HTMLModel",
     "state": {
      "_dom_classes": [],
      "_model_module": "@jupyter-widgets/controls",
      "_model_module_version": "1.5.0",
      "_model_name": "HTMLModel",
      "_view_count": null,
      "_view_module": "@jupyter-widgets/controls",
      "_view_module_version": "1.5.0",
      "_view_name": "HTMLView",
      "description": "",
      "description_tooltip": null,
      "layout": "IPY_MODEL_ba54aed827cd44c3af19d7b56b6e4515",
      "placeholder": "​",
      "style": "IPY_MODEL_eb40c91587e64dac8edf3d9652eb4735",
      "value": " 3/3 [00:30&lt;00:00, 10.01s/it]"
     }
    },
    "868a87bf7f574b9a98a1eccb424d3152": {
     "model_module": "@jupyter-widgets/base",
     "model_module_version": "1.2.0",
     "model_name": "LayoutModel",
     "state": {
      "_model_module": "@jupyter-widgets/base",
      "_model_module_version": "1.2.0",
      "_model_name": "LayoutModel",
      "_view_count": null,
      "_view_module": "@jupyter-widgets/base",
      "_view_module_version": "1.2.0",
      "_view_name": "LayoutView",
      "align_content": null,
      "align_items": null,
      "align_self": null,
      "border": null,
      "bottom": null,
      "display": null,
      "flex": null,
      "flex_flow": null,
      "grid_area": null,
      "grid_auto_columns": null,
      "grid_auto_flow": null,
      "grid_auto_rows": null,
      "grid_column": null,
      "grid_gap": null,
      "grid_row": null,
      "grid_template_areas": null,
      "grid_template_columns": null,
      "grid_template_rows": null,
      "height": null,
      "justify_content": null,
      "justify_items": null,
      "left": null,
      "margin": null,
      "max_height": null,
      "max_width": null,
      "min_height": null,
      "min_width": null,
      "object_fit": null,
      "object_position": null,
      "order": null,
      "overflow": null,
      "overflow_x": null,
      "overflow_y": null,
      "padding": null,
      "right": null,
      "top": null,
      "visibility": null,
      "width": null
     }
    },
    "9b7a73505a934df7bbccd6f57082b5b0": {
     "model_module": "@jupyter-widgets/base",
     "model_module_version": "1.2.0",
     "model_name": "LayoutModel",
     "state": {
      "_model_module": "@jupyter-widgets/base",
      "_model_module_version": "1.2.0",
      "_model_name": "LayoutModel",
      "_view_count": null,
      "_view_module": "@jupyter-widgets/base",
      "_view_module_version": "1.2.0",
      "_view_name": "LayoutView",
      "align_content": null,
      "align_items": null,
      "align_self": null,
      "border": null,
      "bottom": null,
      "display": null,
      "flex": null,
      "flex_flow": null,
      "grid_area": null,
      "grid_auto_columns": null,
      "grid_auto_flow": null,
      "grid_auto_rows": null,
      "grid_column": null,
      "grid_gap": null,
      "grid_row": null,
      "grid_template_areas": null,
      "grid_template_columns": null,
      "grid_template_rows": null,
      "height": null,
      "justify_content": null,
      "justify_items": null,
      "left": null,
      "margin": null,
      "max_height": null,
      "max_width": null,
      "min_height": null,
      "min_width": null,
      "object_fit": null,
      "object_position": null,
      "order": null,
      "overflow": null,
      "overflow_x": null,
      "overflow_y": null,
      "padding": null,
      "right": null,
      "top": null,
      "visibility": null,
      "width": null
     }
    },
    "ba54aed827cd44c3af19d7b56b6e4515": {
     "model_module": "@jupyter-widgets/base",
     "model_module_version": "1.2.0",
     "model_name": "LayoutModel",
     "state": {
      "_model_module": "@jupyter-widgets/base",
      "_model_module_version": "1.2.0",
      "_model_name": "LayoutModel",
      "_view_count": null,
      "_view_module": "@jupyter-widgets/base",
      "_view_module_version": "1.2.0",
      "_view_name": "LayoutView",
      "align_content": null,
      "align_items": null,
      "align_self": null,
      "border": null,
      "bottom": null,
      "display": null,
      "flex": null,
      "flex_flow": null,
      "grid_area": null,
      "grid_auto_columns": null,
      "grid_auto_flow": null,
      "grid_auto_rows": null,
      "grid_column": null,
      "grid_gap": null,
      "grid_row": null,
      "grid_template_areas": null,
      "grid_template_columns": null,
      "grid_template_rows": null,
      "height": null,
      "justify_content": null,
      "justify_items": null,
      "left": null,
      "margin": null,
      "max_height": null,
      "max_width": null,
      "min_height": null,
      "min_width": null,
      "object_fit": null,
      "object_position": null,
      "order": null,
      "overflow": null,
      "overflow_x": null,
      "overflow_y": null,
      "padding": null,
      "right": null,
      "top": null,
      "visibility": null,
      "width": null
     }
    },
    "c02bf480c7e44789ae086266f09870b4": {
     "model_module": "@jupyter-widgets/base",
     "model_module_version": "1.2.0",
     "model_name": "LayoutModel",
     "state": {
      "_model_module": "@jupyter-widgets/base",
      "_model_module_version": "1.2.0",
      "_model_name": "LayoutModel",
      "_view_count": null,
      "_view_module": "@jupyter-widgets/base",
      "_view_module_version": "1.2.0",
      "_view_name": "LayoutView",
      "align_content": null,
      "align_items": null,
      "align_self": null,
      "border": null,
      "bottom": null,
      "display": null,
      "flex": null,
      "flex_flow": null,
      "grid_area": null,
      "grid_auto_columns": null,
      "grid_auto_flow": null,
      "grid_auto_rows": null,
      "grid_column": null,
      "grid_gap": null,
      "grid_row": null,
      "grid_template_areas": null,
      "grid_template_columns": null,
      "grid_template_rows": null,
      "height": null,
      "justify_content": null,
      "justify_items": null,
      "left": null,
      "margin": null,
      "max_height": null,
      "max_width": null,
      "min_height": null,
      "min_width": null,
      "object_fit": null,
      "object_position": null,
      "order": null,
      "overflow": null,
      "overflow_x": null,
      "overflow_y": null,
      "padding": null,
      "right": null,
      "top": null,
      "visibility": null,
      "width": null
     }
    },
    "eb40c91587e64dac8edf3d9652eb4735": {
     "model_module": "@jupyter-widgets/controls",
     "model_module_version": "1.5.0",
     "model_name": "DescriptionStyleModel",
     "state": {
      "_model_module": "@jupyter-widgets/controls",
      "_model_module_version": "1.5.0",
      "_model_name": "DescriptionStyleModel",
      "_view_count": null,
      "_view_module": "@jupyter-widgets/base",
      "_view_module_version": "1.2.0",
      "_view_name": "StyleView",
      "description_width": ""
     }
    },
    "fba244b0bab74a6281f8c44f4ea17bad": {
     "model_module": "@jupyter-widgets/controls",
     "model_module_version": "1.5.0",
     "model_name": "DescriptionStyleModel",
     "state": {
      "_model_module": "@jupyter-widgets/controls",
      "_model_module_version": "1.5.0",
      "_model_name": "DescriptionStyleModel",
      "_view_count": null,
      "_view_module": "@jupyter-widgets/base",
      "_view_module_version": "1.2.0",
      "_view_name": "StyleView",
      "description_width": ""
     }
    },
    "state": {}
   }
  }
 },
 "nbformat": 4,
 "nbformat_minor": 0
}
